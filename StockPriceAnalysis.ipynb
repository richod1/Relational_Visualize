{
  "nbformat": 4,
  "nbformat_minor": 0,
  "metadata": {
    "colab": {
      "provenance": [],
      "authorship_tag": "ABX9TyMMy2QCpZGdnAOuafwvd9uQ",
      "include_colab_link": true
    },
    "kernelspec": {
      "name": "python3",
      "display_name": "Python 3"
    },
    "language_info": {
      "name": "python"
    }
  },
  "cells": [
    {
      "cell_type": "markdown",
      "metadata": {
        "id": "view-in-github",
        "colab_type": "text"
      },
      "source": [
        "<a href=\"https://colab.research.google.com/github/richod1/Relational_Visualize/blob/main/StockPriceAnalysis.ipynb\" target=\"_parent\"><img src=\"https://colab.research.google.com/assets/colab-badge.svg\" alt=\"Open In Colab\"/></a>"
      ]
    },
    {
      "cell_type": "code",
      "execution_count": 1,
      "metadata": {
        "colab": {
          "base_uri": "https://localhost:8080/"
        },
        "id": "mZLxMg4i1xRB",
        "outputId": "edfb5cc4-f340-4a7f-9cf8-fe8766b99d6c"
      },
      "outputs": [
        {
          "output_type": "stream",
          "name": "stdout",
          "text": [
            "Requirement already satisfied: yfinance in /usr/local/lib/python3.10/dist-packages (0.2.38)\n",
            "Requirement already satisfied: pandas>=1.3.0 in /usr/local/lib/python3.10/dist-packages (from yfinance) (2.0.3)\n",
            "Requirement already satisfied: numpy>=1.16.5 in /usr/local/lib/python3.10/dist-packages (from yfinance) (1.25.2)\n",
            "Requirement already satisfied: requests>=2.31 in /usr/local/lib/python3.10/dist-packages (from yfinance) (2.31.0)\n",
            "Requirement already satisfied: multitasking>=0.0.7 in /usr/local/lib/python3.10/dist-packages (from yfinance) (0.0.11)\n",
            "Requirement already satisfied: lxml>=4.9.1 in /usr/local/lib/python3.10/dist-packages (from yfinance) (4.9.4)\n",
            "Requirement already satisfied: appdirs>=1.4.4 in /usr/local/lib/python3.10/dist-packages (from yfinance) (1.4.4)\n",
            "Requirement already satisfied: pytz>=2022.5 in /usr/local/lib/python3.10/dist-packages (from yfinance) (2023.4)\n",
            "Requirement already satisfied: frozendict>=2.3.4 in /usr/local/lib/python3.10/dist-packages (from yfinance) (2.4.2)\n",
            "Requirement already satisfied: peewee>=3.16.2 in /usr/local/lib/python3.10/dist-packages (from yfinance) (3.17.3)\n",
            "Requirement already satisfied: beautifulsoup4>=4.11.1 in /usr/local/lib/python3.10/dist-packages (from yfinance) (4.12.3)\n",
            "Requirement already satisfied: html5lib>=1.1 in /usr/local/lib/python3.10/dist-packages (from yfinance) (1.1)\n",
            "Requirement already satisfied: soupsieve>1.2 in /usr/local/lib/python3.10/dist-packages (from beautifulsoup4>=4.11.1->yfinance) (2.5)\n",
            "Requirement already satisfied: six>=1.9 in /usr/local/lib/python3.10/dist-packages (from html5lib>=1.1->yfinance) (1.16.0)\n",
            "Requirement already satisfied: webencodings in /usr/local/lib/python3.10/dist-packages (from html5lib>=1.1->yfinance) (0.5.1)\n",
            "Requirement already satisfied: python-dateutil>=2.8.2 in /usr/local/lib/python3.10/dist-packages (from pandas>=1.3.0->yfinance) (2.8.2)\n",
            "Requirement already satisfied: tzdata>=2022.1 in /usr/local/lib/python3.10/dist-packages (from pandas>=1.3.0->yfinance) (2024.1)\n",
            "Requirement already satisfied: charset-normalizer<4,>=2 in /usr/local/lib/python3.10/dist-packages (from requests>=2.31->yfinance) (3.3.2)\n",
            "Requirement already satisfied: idna<4,>=2.5 in /usr/local/lib/python3.10/dist-packages (from requests>=2.31->yfinance) (3.7)\n",
            "Requirement already satisfied: urllib3<3,>=1.21.1 in /usr/local/lib/python3.10/dist-packages (from requests>=2.31->yfinance) (2.0.7)\n",
            "Requirement already satisfied: certifi>=2017.4.17 in /usr/local/lib/python3.10/dist-packages (from requests>=2.31->yfinance) (2024.2.2)\n"
          ]
        }
      ],
      "source": [
        "!pip install yfinance"
      ]
    },
    {
      "cell_type": "code",
      "source": [
        "import pandas as pd\n",
        "import yfinance as yf\n",
        "import datetime\n",
        "from datetime import date,timedelta\n",
        "today=date.today()"
      ],
      "metadata": {
        "id": "z1PMg6452nky"
      },
      "execution_count": 2,
      "outputs": []
    },
    {
      "cell_type": "code",
      "source": [
        "d1=today.strftime(\"%Y-%m-%d\")\n",
        "end_date=d1\n",
        "d2=date.today()-timedelta(days=360)\n",
        "d2=d2.strftime(\"%Y-%m-%d\")\n",
        "start_date=d2\n",
        "\n",
        "data=yf.download('AAPL',start=start_date,end=end_date,progress=False)\n",
        "print(data.head())"
      ],
      "metadata": {
        "colab": {
          "base_uri": "https://localhost:8080/"
        },
        "id": "V285OO6q2_Li",
        "outputId": "b220797a-b89f-402e-b560-f28be9935717"
      },
      "execution_count": 3,
      "outputs": [
        {
          "output_type": "stream",
          "name": "stdout",
          "text": [
            "                  Open        High         Low       Close   Adj Close  \\\n",
            "Date                                                                     \n",
            "2023-05-15  173.160004  173.210007  171.470001  172.070007  171.393173   \n",
            "2023-05-16  171.990005  173.139999  171.800003  172.070007  171.393173   \n",
            "2023-05-17  171.710007  172.929993  170.419998  172.690002  172.010727   \n",
            "2023-05-18  173.000000  175.240005  172.580002  175.050003  174.361435   \n",
            "2023-05-19  176.389999  176.389999  174.940002  175.160004  174.471024   \n",
            "\n",
            "              Volume  \n",
            "Date                  \n",
            "2023-05-15  37266700  \n",
            "2023-05-16  42110300  \n",
            "2023-05-17  57951600  \n",
            "2023-05-18  65496700  \n",
            "2023-05-19  55772400  \n"
          ]
        }
      ]
    },
    {
      "cell_type": "code",
      "source": [
        "data[\"Date\"]=data.index\n",
        "data=data[[\"Date\",\"Open\",\"High\",\"Low\",\"Close\",\"Adj Close\",\"Volume\"]]\n",
        "\n",
        "data.reset_index(drop=True,inplace=True)\n",
        "print(data.head())"
      ],
      "metadata": {
        "colab": {
          "base_uri": "https://localhost:8080/"
        },
        "id": "niL2PZZb46DU",
        "outputId": "f498754c-1468-41c0-dfc4-3f72aec0605d"
      },
      "execution_count": 4,
      "outputs": [
        {
          "output_type": "stream",
          "name": "stdout",
          "text": [
            "        Date        Open        High         Low       Close   Adj Close  \\\n",
            "0 2023-05-15  173.160004  173.210007  171.470001  172.070007  171.393173   \n",
            "1 2023-05-16  171.990005  173.139999  171.800003  172.070007  171.393173   \n",
            "2 2023-05-17  171.710007  172.929993  170.419998  172.690002  172.010727   \n",
            "3 2023-05-18  173.000000  175.240005  172.580002  175.050003  174.361435   \n",
            "4 2023-05-19  176.389999  176.389999  174.940002  175.160004  174.471024   \n",
            "\n",
            "     Volume  \n",
            "0  37266700  \n",
            "1  42110300  \n",
            "2  57951600  \n",
            "3  65496700  \n",
            "4  55772400  \n"
          ]
        }
      ]
    }
  ]
}